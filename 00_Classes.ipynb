{
  "nbformat": 4,
  "nbformat_minor": 0,
  "metadata": {
    "colab": {
      "name": "00 Classes.ipynb",
      "provenance": [],
      "include_colab_link": true
    },
    "kernelspec": {
      "name": "python3",
      "display_name": "Python 3"
    },
    "language_info": {
      "name": "python"
    }
  },
  "cells": [
    {
      "cell_type": "markdown",
      "metadata": {
        "id": "view-in-github",
        "colab_type": "text"
      },
      "source": [
        "<a href=\"https://colab.research.google.com/github/aksanachmel/DFDEDATA6_EX2/blob/main/00_Classes.ipynb\" target=\"_parent\"><img src=\"https://colab.research.google.com/assets/colab-badge.svg\" alt=\"Open In Colab\"/></a>"
      ]
    },
    {
      "cell_type": "code",
      "source": [
        "# Geographic point-> lati, long\n",
        "# a,b -> remember 2 names; operate on 2 names\n",
        "# CLASS \n",
        "\n",
        "# functional-> functions\n",
        "# how to do things\n",
        "# 1. Switch on the fan _ def fan_on():\n",
        "# 2. change the speed def change_speed():\n",
        "# 3. switch off the fan def fan_off():\n",
        "\n",
        "# Objected oriented-> classes \n",
        "# IDENTIFY-> NOUN, VERBS\n",
        "# CLASS FAN-> can perform 3 functions\n",
        "# class Fan:\n",
        "# def switch_on, change_speed, switch_off\n",
        "# Fan f1; f1.on(). "
      ],
      "metadata": {
        "id": "fzRpp1jktqAF"
      },
      "execution_count": null,
      "outputs": []
    },
    {
      "cell_type": "code",
      "execution_count": null,
      "metadata": {
        "id": "IDCEKDW7nrFw"
      },
      "outputs": [],
      "source": [
        "# OBJECTS\n",
        "class Human:\n",
        "  def speak(this):\n",
        "    print('bye bye')\n",
        "  def jump(this):\n",
        "    return \"i jumped. Bye bye.\"\n",
        "  def eat(this, food):\n",
        "    return food-1"
      ]
    },
    {
      "cell_type": "code",
      "source": [
        "# linear sequence\n",
        "# Fibonacci\n",
        "# -1 1\n",
        "# 0 - first\n",
        "# 1 \n",
        "# 1, 2, 3, 5, 8, 13......."
      ],
      "metadata": {
        "id": "HTDX4AQNouEX"
      },
      "execution_count": null,
      "outputs": []
    },
    {
      "cell_type": "code",
      "source": [
        "class Printer:\n",
        "  def hello(self):\n",
        "    print(\"hello world\")\n",
        "  def bye(self, randomtext):\n",
        "    print(randomtext)"
      ],
      "metadata": {
        "id": "PA2_DXftsB87"
      },
      "execution_count": null,
      "outputs": []
    },
    {
      "cell_type": "code",
      "source": [
        "myprinter = Printer()\n",
        "myprinter.hello()"
      ],
      "metadata": {
        "colab": {
          "base_uri": "https://localhost:8080/"
        },
        "id": "Dtl4WzjWvNm4",
        "outputId": "5d7a9f13-fbee-4b72-ebf9-8c28fd0ce150"
      },
      "execution_count": null,
      "outputs": [
        {
          "output_type": "stream",
          "name": "stdout",
          "text": [
            "hello world\n"
          ]
        }
      ]
    },
    {
      "cell_type": "code",
      "source": [
        "myprinter.bye(\"tada\")"
      ],
      "metadata": {
        "colab": {
          "base_uri": "https://localhost:8080/"
        },
        "id": "55BNt7XfvQqO",
        "outputId": "a7a12279-7779-4535-f410-36add1125d67"
      },
      "execution_count": null,
      "outputs": [
        {
          "output_type": "stream",
          "name": "stdout",
          "text": [
            "tada\n"
          ]
        }
      ]
    },
    {
      "cell_type": "code",
      "source": [
        "#Human-> 1 nose\n",
        "# 3 noses;\n",
        "class Human:\n",
        "  def __init__(self): # called automatically \n",
        "    self.noseCount = 1\n",
        "    self.tailCount = 0\n",
        "  def getLimbCount(self):\n",
        "    print('Nose count = ' + str(self.noseCount))\n",
        "    print('Tail count = ' + str(self.tailCount))"
      ],
      "metadata": {
        "id": "uFgp6XVwvf29"
      },
      "execution_count": null,
      "outputs": []
    },
    {
      "cell_type": "code",
      "source": [
        "john = Human()\n"
      ],
      "metadata": {
        "id": "FWOHd0WHww3J"
      },
      "execution_count": null,
      "outputs": []
    },
    {
      "cell_type": "code",
      "source": [
        "print(dir(john))"
      ],
      "metadata": {
        "colab": {
          "base_uri": "https://localhost:8080/",
          "height": 165
        },
        "id": "laWYwPh6w60S",
        "outputId": "3c72e190-a5be-4a7d-88cb-995ae57db860"
      },
      "execution_count": 1,
      "outputs": [
        {
          "output_type": "error",
          "ename": "NameError",
          "evalue": "ignored",
          "traceback": [
            "\u001b[0;31m---------------------------------------------------------------------------\u001b[0m",
            "\u001b[0;31mNameError\u001b[0m                                 Traceback (most recent call last)",
            "\u001b[0;32m<ipython-input-1-1d420fa6c332>\u001b[0m in \u001b[0;36m<module>\u001b[0;34m()\u001b[0m\n\u001b[0;32m----> 1\u001b[0;31m \u001b[0mprint\u001b[0m\u001b[0;34m(\u001b[0m\u001b[0mdir\u001b[0m\u001b[0;34m(\u001b[0m\u001b[0mjohn\u001b[0m\u001b[0;34m)\u001b[0m\u001b[0;34m)\u001b[0m\u001b[0;34m\u001b[0m\u001b[0;34m\u001b[0m\u001b[0m\n\u001b[0m",
            "\u001b[0;31mNameError\u001b[0m: name 'john' is not defined"
          ]
        }
      ]
    },
    {
      "cell_type": "code",
      "source": [
        "john.getLimbCount()"
      ],
      "metadata": {
        "colab": {
          "base_uri": "https://localhost:8080/"
        },
        "id": "yld7TSVyxHI7",
        "outputId": "0bbaccc4-c000-4c66-ea69-2c71a7bbc9a0"
      },
      "execution_count": null,
      "outputs": [
        {
          "output_type": "stream",
          "name": "stdout",
          "text": [
            "Nose count = 1\n",
            "Tail count = 0\n"
          ]
        }
      ]
    },
    {
      "cell_type": "code",
      "source": [
        ""
      ],
      "metadata": {
        "id": "bFvs7-WXxxDC"
      },
      "execution_count": null,
      "outputs": []
    }
  ]
}